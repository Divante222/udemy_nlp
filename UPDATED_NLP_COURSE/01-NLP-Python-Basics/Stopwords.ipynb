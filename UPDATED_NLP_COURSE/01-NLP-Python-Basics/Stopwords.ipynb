{
 "cells": [
  {
   "cell_type": "code",
   "execution_count": 1,
   "id": "5a524986",
   "metadata": {},
   "outputs": [],
   "source": [
    "import spacy"
   ]
  },
  {
   "cell_type": "code",
   "execution_count": 2,
   "id": "9fa1c9e4",
   "metadata": {},
   "outputs": [],
   "source": [
    "nlp = spacy.load('en_core_web_sm')"
   ]
  },
  {
   "cell_type": "code",
   "execution_count": 3,
   "id": "40d84d0b",
   "metadata": {
    "scrolled": true
   },
   "outputs": [
    {
     "name": "stdout",
     "output_type": "stream",
     "text": [
      "{'may', 'six', 'indeed', 'afterwards', 'perhaps', 'than', 'under', 'is', 'whence', 'yourself', 'eleven', 'noone', 'therein', 'of', 'others', 'move', 'mine', 'the', 'with', 'give', 'without', 'out', 'if', 'who', 'everyone', 'itself', 'no', 'while', 'around', \"'s\", 'front', 'unless', 'you', 'two', 'less', 'very', 'someone', 'keep', 'empty', 'elsewhere', 'will', 'either', 'what', 'too', 'twelve', 'he', 'various', 'this', 'nothing', 'only', 'nevertheless', 'get', 'hers', 'except', 'although', 'via', 'put', 'sometimes', 'off', 'would', 'when', 'make', 'hereupon', 'and', 'his', 'other', 'using', 'but', 'toward', 'anyway', 'ourselves', 'their', 'i', 'side', 'quite', 'ten', 'call', 'her', 'moreover', 'wherein', 'whose', 'up', 'whole', 'mostly', 'seems', 'formerly', 'same', 'had', 'done', 'they', 'to', 'those', 'towards', 'before', '‘ll', 'there', 'often', 'anything', 'which', 'beyond', 'everywhere', 'many', 'were', 'it', 'becomes', 'made', '‘d', 'amount', 'on', 'all', 'whether', 'enough', 'was', 'has', 'fifteen', 'somewhere', 'neither', 'whereas', 'first', 'something', 'see', 'take', 'an', 'each', 'forty', 'behind', 'yours', 'used', 'seeming', 'here', 'been', 'every', 'own', 'any', 'at', 'by', 'nine', 'among', 'becoming', 'such', 'in', 'top', 'ever', 'now', 'nobody', 'thus', 'did', 'from', 'whereafter', 'besides', 'ca', 'these', 'why', 'yet', 'after', 'during', 'until', 'say', 'so', 'himself', 'full', 'through', '‘re', 'together', \"'d\", 're', 'another', 'latter', 'am', 'yourselves', 'me', 'n‘t', 'should', 'a', 'still', 'him', 'former', 'due', 'go', 'n’t', '‘s', 'because', 'more', 'last', 'alone', '‘ve', 'could', 'both', '’d', 'almost', 'your', 'become', 'where', 'namely', 'much', 'meanwhile', 'three', 'that', 'nor', 'twenty', 'four', 'be', 'below', 'nowhere', 'are', 'name', 'our', 'therefore', 'most', 'already', 'whenever', 'fifty', 'further', 'myself', 'really', 'part', 'several', 'though', 'can', 'some', \"'ll\", 'sixty', \"'re\", 'throughout', '’re', 'them', 'my', 'beside', 'once', \"n't\", 'thereupon', 'anywhere', 'us', 'might', 'not', 'being', 'herself', 'thereby', 'back', \"'m\", 'themselves', 'however', 'bottom', '’ll', 'whither', 'everything', 'next', 'anyone', 'as', 'just', 'along', 'else', 'wherever', 'eight', 'upon', 'beforehand', 'latterly', 'for', 'hereby', 'ours', 'since', 'herein', 'third', 'sometime', 'whoever', 'few', 'five', 'anyhow', 'well', 'show', 'somehow', 'have', 'within', 'rather', 'whereupon', 'seemed', 'into', 'do', 'cannot', 'thence', 'whatever', 'least', 'whereby', 'about', 'whom', 'one', '’s', 'over', 'per', 'none', 'across', 'hundred', 'its', '‘m', 'then', 'seem', 'or', 'she', 'how', 'otherwise', 'serious', 'hence', 'between', 'thereafter', 'again', '’m', 'please', 'down', 'became', 'amongst', 'regarding', \"'ve\", '’ve', 'above', 'always', 'against', 'onto', 'doing', 'we', 'hereafter', 'even', 'thru', 'also', 'never', 'must', 'does'}\n"
     ]
    }
   ],
   "source": [
    "print(nlp.Defaults.stop_words)"
   ]
  },
  {
   "cell_type": "code",
   "execution_count": 4,
   "id": "4e2ae012",
   "metadata": {},
   "outputs": [
    {
     "name": "stdout",
     "output_type": "stream",
     "text": [
      "<class 'set'>\n"
     ]
    }
   ],
   "source": [
    "print(type(nlp.Defaults.stop_words))"
   ]
  },
  {
   "cell_type": "code",
   "execution_count": 5,
   "id": "cef7a87b",
   "metadata": {},
   "outputs": [
    {
     "data": {
      "text/plain": [
       "326"
      ]
     },
     "execution_count": 5,
     "metadata": {},
     "output_type": "execute_result"
    }
   ],
   "source": [
    "len(nlp.Defaults.stop_words)"
   ]
  },
  {
   "cell_type": "code",
   "execution_count": 6,
   "id": "68e44abb",
   "metadata": {},
   "outputs": [
    {
     "data": {
      "text/plain": [
       "<spacy.lexeme.Lexeme at 0x1515cf600>"
      ]
     },
     "execution_count": 6,
     "metadata": {},
     "output_type": "execute_result"
    }
   ],
   "source": [
    "#check to see a word is in stopwords\n",
    "nlp.vocab['is']"
   ]
  },
  {
   "cell_type": "code",
   "execution_count": 7,
   "id": "e147f3f7",
   "metadata": {},
   "outputs": [
    {
     "data": {
      "text/plain": [
       "True"
      ]
     },
     "execution_count": 7,
     "metadata": {},
     "output_type": "execute_result"
    }
   ],
   "source": [
    "nlp.vocab['is'].is_stop"
   ]
  },
  {
   "cell_type": "code",
   "execution_count": 8,
   "id": "909af01a",
   "metadata": {},
   "outputs": [
    {
     "data": {
      "text/plain": [
       "False"
      ]
     },
     "execution_count": 8,
     "metadata": {},
     "output_type": "execute_result"
    }
   ],
   "source": [
    "nlp.vocab['mystery'].is_stop"
   ]
  },
  {
   "cell_type": "code",
   "execution_count": 9,
   "id": "c43b23ba",
   "metadata": {},
   "outputs": [],
   "source": [
    "nlp.Defaults.stop_words.add('btw')"
   ]
  },
  {
   "cell_type": "code",
   "execution_count": 18,
   "id": "e48ffdfe",
   "metadata": {},
   "outputs": [],
   "source": [
    "nlp.vocab['btw'].is_stop = True"
   ]
  },
  {
   "cell_type": "code",
   "execution_count": 11,
   "id": "5eb88bb3",
   "metadata": {},
   "outputs": [
    {
     "data": {
      "text/plain": [
       "327"
      ]
     },
     "execution_count": 11,
     "metadata": {},
     "output_type": "execute_result"
    }
   ],
   "source": [
    "len(nlp.Defaults.stop_words)"
   ]
  },
  {
   "cell_type": "code",
   "execution_count": 19,
   "id": "34eaabb6",
   "metadata": {},
   "outputs": [
    {
     "data": {
      "text/plain": [
       "True"
      ]
     },
     "execution_count": 19,
     "metadata": {},
     "output_type": "execute_result"
    }
   ],
   "source": [
    "nlp.vocab['btw'].is_stop"
   ]
  },
  {
   "cell_type": "code",
   "execution_count": 20,
   "id": "ae7fac32",
   "metadata": {},
   "outputs": [
    {
     "ename": "KeyError",
     "evalue": "'beyond'",
     "output_type": "error",
     "traceback": [
      "\u001b[0;31m---------------------------------------------------------------------------\u001b[0m",
      "\u001b[0;31mKeyError\u001b[0m                                  Traceback (most recent call last)",
      "Cell \u001b[0;32mIn[20], line 1\u001b[0m\n\u001b[0;32m----> 1\u001b[0m \u001b[43mnlp\u001b[49m\u001b[38;5;241;43m.\u001b[39;49m\u001b[43mDefaults\u001b[49m\u001b[38;5;241;43m.\u001b[39;49m\u001b[43mstop_words\u001b[49m\u001b[38;5;241;43m.\u001b[39;49m\u001b[43mremove\u001b[49m\u001b[43m(\u001b[49m\u001b[38;5;124;43m'\u001b[39;49m\u001b[38;5;124;43mbeyond\u001b[39;49m\u001b[38;5;124;43m'\u001b[39;49m\u001b[43m)\u001b[49m\n",
      "\u001b[0;31mKeyError\u001b[0m: 'beyond'"
     ]
    }
   ],
   "source": [
    "nlp.Defaults.stop_words.remove('beyond')"
   ]
  },
  {
   "cell_type": "code",
   "execution_count": 21,
   "id": "62780739",
   "metadata": {},
   "outputs": [],
   "source": [
    "nlp.vocab['beyond'].is_stop = False"
   ]
  },
  {
   "cell_type": "code",
   "execution_count": 22,
   "id": "ebdaabaf",
   "metadata": {},
   "outputs": [
    {
     "data": {
      "text/plain": [
       "False"
      ]
     },
     "execution_count": 22,
     "metadata": {},
     "output_type": "execute_result"
    }
   ],
   "source": [
    "nlp.vocab['beyond'].is_stop"
   ]
  }
 ],
 "metadata": {
  "kernelspec": {
   "display_name": "Python 3 (ipykernel)",
   "language": "python",
   "name": "python3"
  },
  "language_info": {
   "codemirror_mode": {
    "name": "ipython",
    "version": 3
   },
   "file_extension": ".py",
   "mimetype": "text/x-python",
   "name": "python",
   "nbconvert_exporter": "python",
   "pygments_lexer": "ipython3",
   "version": "3.9.16"
  }
 },
 "nbformat": 4,
 "nbformat_minor": 5
}
