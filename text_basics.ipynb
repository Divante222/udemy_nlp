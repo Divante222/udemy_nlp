{
 "cells": [
  {
   "cell_type": "code",
   "execution_count": 1,
   "id": "1a4590f4",
   "metadata": {},
   "outputs": [],
   "source": [
    "person = 'Jose'"
   ]
  },
  {
   "cell_type": "code",
   "execution_count": 3,
   "id": "c1b4e32c",
   "metadata": {},
   "outputs": [
    {
     "name": "stdout",
     "output_type": "stream",
     "text": [
      "my name is Jose\n"
     ]
    }
   ],
   "source": [
    "print(\"my name is {}\".format(person))"
   ]
  },
  {
   "cell_type": "code",
   "execution_count": 4,
   "id": "a0a2f355",
   "metadata": {},
   "outputs": [
    {
     "name": "stdout",
     "output_type": "stream",
     "text": [
      "my name is Jose\n"
     ]
    }
   ],
   "source": [
    "print(f\"my name is {person}\")"
   ]
  },
  {
   "cell_type": "code",
   "execution_count": 9,
   "id": "0488cf0c",
   "metadata": {},
   "outputs": [],
   "source": [
    "mylist = [0,1,2]"
   ]
  },
  {
   "cell_type": "code",
   "execution_count": 5,
   "id": "d02e9efa",
   "metadata": {},
   "outputs": [],
   "source": [
    "d = { 'a':123, 'b':456}"
   ]
  },
  {
   "cell_type": "code",
   "execution_count": 8,
   "id": "71d1ac61",
   "metadata": {},
   "outputs": [
    {
     "name": "stdout",
     "output_type": "stream",
     "text": [
      "my number is 123\n"
     ]
    }
   ],
   "source": [
    "print(f\"my number is {d['a']}\")"
   ]
  },
  {
   "cell_type": "code",
   "execution_count": 10,
   "id": "946f79cd",
   "metadata": {},
   "outputs": [
    {
     "name": "stdout",
     "output_type": "stream",
     "text": [
      "my number is 0\n"
     ]
    }
   ],
   "source": [
    "print(f\"my number is {mylist[0]}\")"
   ]
  },
  {
   "cell_type": "code",
   "execution_count": 24,
   "id": "0228be1e",
   "metadata": {},
   "outputs": [],
   "source": [
    "library = [('Author', 'Topic', 'Pages'), ('Twain', 'Rafting in water alone', 601), ('Feynman', 'Physics', 95), ('Hamilton', 'Mythology', 144)]"
   ]
  },
  {
   "cell_type": "code",
   "execution_count": 12,
   "id": "d45d406b",
   "metadata": {},
   "outputs": [
    {
     "data": {
      "text/plain": [
       "[('Author', 'Topic', 'Pages'),\n",
       " ('Twain', 'Rafting', 601),\n",
       " ('Feynman', 'Physics', 95),\n",
       " ('Hamilton', 'Mythology', 144)]"
      ]
     },
     "execution_count": 12,
     "metadata": {},
     "output_type": "execute_result"
    }
   ],
   "source": [
    "library\n"
   ]
  },
  {
   "cell_type": "code",
   "execution_count": 15,
   "id": "a2ad84fd",
   "metadata": {},
   "outputs": [
    {
     "name": "stdout",
     "output_type": "stream",
     "text": [
      "author is Author\n",
      "author is Twain\n",
      "author is Feynman\n",
      "author is Hamilton\n"
     ]
    }
   ],
   "source": [
    "for book in library:\n",
    "    print(f\"author is {book[0]}\")"
   ]
  },
  {
   "cell_type": "code",
   "execution_count": 17,
   "id": "94443566",
   "metadata": {},
   "outputs": [
    {
     "name": "stdout",
     "output_type": "stream",
     "text": [
      "author is Author\n",
      "author is Twain\n",
      "author is Feynman\n",
      "author is Hamilton\n"
     ]
    }
   ],
   "source": [
    "for author, topic, pages in library:\n",
    "    print(f\"author is {author}\")"
   ]
  },
  {
   "cell_type": "code",
   "execution_count": 19,
   "id": "fc527301",
   "metadata": {},
   "outputs": [
    {
     "name": "stdout",
     "output_type": "stream",
     "text": [
      "author is Author Topic Pages\n",
      "author is Twain Rafting 601\n",
      "author is Feynman Physics 95\n",
      "author is Hamilton Mythology 144\n"
     ]
    }
   ],
   "source": [
    "for author, topic, pages in library:\n",
    "    print(f\"author is {author} {topic} {pages}\")"
   ]
  },
  {
   "cell_type": "code",
   "execution_count": 29,
   "id": "d05c1306",
   "metadata": {},
   "outputs": [
    {
     "name": "stdout",
     "output_type": "stream",
     "text": [
      "Author     Topic                          -----Pages\n",
      "Twain      Rafting in water alone         -------601\n",
      "Feynman    Physics                        --------95\n",
      "Hamilton   Mythology                      -------144\n"
     ]
    }
   ],
   "source": [
    "for author, topic, pages in library:\n",
    "    print(f\"{author:{10}} {topic:{30}} {pages:->{10}}\")# > sign aligns the pages with the numbers\n",
    "# before the > fills in the black spaces with that character"
   ]
  },
  {
   "cell_type": "code",
   "execution_count": 30,
   "id": "3afb4272",
   "metadata": {},
   "outputs": [],
   "source": [
    "from datetime import datetime"
   ]
  },
  {
   "cell_type": "code",
   "execution_count": 31,
   "id": "b1e2e8f6",
   "metadata": {},
   "outputs": [],
   "source": [
    "today = datetime(year=2019, month=2, day =28)"
   ]
  },
  {
   "cell_type": "code",
   "execution_count": 37,
   "id": "60b400ed",
   "metadata": {},
   "outputs": [
    {
     "name": "stdout",
     "output_type": "stream",
     "text": [
      "February 28, 2019\n"
     ]
    }
   ],
   "source": [
    "print(f\"{today:%B %d, %Y}\")"
   ]
  },
  {
   "cell_type": "code",
   "execution_count": 35,
   "id": "a4661897",
   "metadata": {},
   "outputs": [
    {
     "data": {
      "text/plain": [
       "datetime.datetime(2019, 2, 28, 0, 0)"
      ]
     },
     "execution_count": 35,
     "metadata": {},
     "output_type": "execute_result"
    }
   ],
   "source": [
    "today"
   ]
  },
  {
   "cell_type": "code",
   "execution_count": 40,
   "id": "b85c29d7",
   "metadata": {},
   "outputs": [],
   "source": [
    "## cannot write comments in the same block as below and can only do this\n",
    "# in jupyter notebook"
   ]
  },
  {
   "cell_type": "code",
   "execution_count": 39,
   "id": "2bd298a5",
   "metadata": {},
   "outputs": [
    {
     "name": "stdout",
     "output_type": "stream",
     "text": [
      "Writing test.txt\n"
     ]
    }
   ],
   "source": [
    "%%writefile test.txt\n",
    "Hello, this is a quick test file.\n",
    "This is the second line of the file."
   ]
  },
  {
   "cell_type": "code",
   "execution_count": 41,
   "id": "6612a75b",
   "metadata": {},
   "outputs": [
    {
     "ename": "FileNotFoundError",
     "evalue": "[Errno 2] No such file or directory: 'whoops.txt'",
     "output_type": "error",
     "traceback": [
      "\u001b[0;31m---------------------------------------------------------------------------\u001b[0m",
      "\u001b[0;31mFileNotFoundError\u001b[0m                         Traceback (most recent call last)",
      "Cell \u001b[0;32mIn[41], line 1\u001b[0m\n\u001b[0;32m----> 1\u001b[0m myfile \u001b[38;5;241m=\u001b[39m \u001b[38;5;28;43mopen\u001b[39;49m\u001b[43m(\u001b[49m\u001b[38;5;124;43m'\u001b[39;49m\u001b[38;5;124;43mwhoops.txt\u001b[39;49m\u001b[38;5;124;43m'\u001b[39;49m\u001b[43m)\u001b[49m\n",
      "File \u001b[0;32m/opt/homebrew/anaconda3/lib/python3.9/site-packages/IPython/core/interactiveshell.py:284\u001b[0m, in \u001b[0;36m_modified_open\u001b[0;34m(file, *args, **kwargs)\u001b[0m\n\u001b[1;32m    277\u001b[0m \u001b[38;5;28;01mif\u001b[39;00m file \u001b[38;5;129;01min\u001b[39;00m {\u001b[38;5;241m0\u001b[39m, \u001b[38;5;241m1\u001b[39m, \u001b[38;5;241m2\u001b[39m}:\n\u001b[1;32m    278\u001b[0m     \u001b[38;5;28;01mraise\u001b[39;00m \u001b[38;5;167;01mValueError\u001b[39;00m(\n\u001b[1;32m    279\u001b[0m         \u001b[38;5;124mf\u001b[39m\u001b[38;5;124m\"\u001b[39m\u001b[38;5;124mIPython won\u001b[39m\u001b[38;5;124m'\u001b[39m\u001b[38;5;124mt let you open fd=\u001b[39m\u001b[38;5;132;01m{\u001b[39;00mfile\u001b[38;5;132;01m}\u001b[39;00m\u001b[38;5;124m by default \u001b[39m\u001b[38;5;124m\"\u001b[39m\n\u001b[1;32m    280\u001b[0m         \u001b[38;5;124m\"\u001b[39m\u001b[38;5;124mas it is likely to crash IPython. If you know what you are doing, \u001b[39m\u001b[38;5;124m\"\u001b[39m\n\u001b[1;32m    281\u001b[0m         \u001b[38;5;124m\"\u001b[39m\u001b[38;5;124myou can use builtins\u001b[39m\u001b[38;5;124m'\u001b[39m\u001b[38;5;124m open.\u001b[39m\u001b[38;5;124m\"\u001b[39m\n\u001b[1;32m    282\u001b[0m     )\n\u001b[0;32m--> 284\u001b[0m \u001b[38;5;28;01mreturn\u001b[39;00m \u001b[43mio_open\u001b[49m\u001b[43m(\u001b[49m\u001b[43mfile\u001b[49m\u001b[43m,\u001b[49m\u001b[43m \u001b[49m\u001b[38;5;241;43m*\u001b[39;49m\u001b[43margs\u001b[49m\u001b[43m,\u001b[49m\u001b[43m \u001b[49m\u001b[38;5;241;43m*\u001b[39;49m\u001b[38;5;241;43m*\u001b[39;49m\u001b[43mkwargs\u001b[49m\u001b[43m)\u001b[49m\n",
      "\u001b[0;31mFileNotFoundError\u001b[0m: [Errno 2] No such file or directory: 'whoops.txt'"
     ]
    }
   ],
   "source": [
    "myfile = open('whoops.txt')"
   ]
  },
  {
   "cell_type": "code",
   "execution_count": 43,
   "id": "70814c94",
   "metadata": {},
   "outputs": [
    {
     "data": {
      "text/plain": [
       "'/Users/divante/codeup-data-science/udemy_nlp'"
      ]
     },
     "execution_count": 43,
     "metadata": {},
     "output_type": "execute_result"
    }
   ],
   "source": [
    "pwd"
   ]
  },
  {
   "cell_type": "code",
   "execution_count": 1,
   "id": "c8f29a02",
   "metadata": {},
   "outputs": [],
   "source": [
    "myfile = open('test.txt')"
   ]
  },
  {
   "cell_type": "code",
   "execution_count": 2,
   "id": "33b6679e",
   "metadata": {
    "scrolled": false
   },
   "outputs": [
    {
     "data": {
      "text/plain": [
       "<_io.TextIOWrapper name='test.txt' mode='r' encoding='UTF-8'>"
      ]
     },
     "execution_count": 2,
     "metadata": {},
     "output_type": "execute_result"
    }
   ],
   "source": [
    "myfile"
   ]
  },
  {
   "cell_type": "code",
   "execution_count": 3,
   "id": "d2becb8e",
   "metadata": {},
   "outputs": [],
   "source": [
    "myfile = open('/Users/divante/codeup-data-science/udemy_nlp/test.txt')"
   ]
  },
  {
   "cell_type": "code",
   "execution_count": 5,
   "id": "9758b075",
   "metadata": {},
   "outputs": [
    {
     "data": {
      "text/plain": [
       "<_io.TextIOWrapper name='/Users/divante/codeup-data-science/udemy_nlp/test.txt' mode='r' encoding='UTF-8'>"
      ]
     },
     "execution_count": 5,
     "metadata": {},
     "output_type": "execute_result"
    }
   ],
   "source": [
    "myfile"
   ]
  },
  {
   "cell_type": "code",
   "execution_count": 6,
   "id": "751d420f",
   "metadata": {},
   "outputs": [
    {
     "data": {
      "text/plain": [
       "'Hello, this is a quick test file.\\nThis is the second line of the file.\\n'"
      ]
     },
     "execution_count": 6,
     "metadata": {},
     "output_type": "execute_result"
    }
   ],
   "source": [
    "myfile.read()"
   ]
  },
  {
   "cell_type": "code",
   "execution_count": 12,
   "id": "3449a1c2",
   "metadata": {},
   "outputs": [
    {
     "data": {
      "text/plain": [
       "0"
      ]
     },
     "execution_count": 12,
     "metadata": {},
     "output_type": "execute_result"
    }
   ],
   "source": [
    "myfile.seek(0)"
   ]
  },
  {
   "cell_type": "code",
   "execution_count": 13,
   "id": "4d299a79",
   "metadata": {},
   "outputs": [],
   "source": [
    "content = myfile.read()"
   ]
  },
  {
   "cell_type": "code",
   "execution_count": 14,
   "id": "41b82880",
   "metadata": {},
   "outputs": [
    {
     "name": "stdout",
     "output_type": "stream",
     "text": [
      "Hello, this is a quick test file.\n",
      "This is the second line of the file.\n",
      "\n"
     ]
    }
   ],
   "source": [
    "print(content)"
   ]
  },
  {
   "cell_type": "code",
   "execution_count": 15,
   "id": "f15eef1f",
   "metadata": {},
   "outputs": [],
   "source": [
    "myfile.close()"
   ]
  },
  {
   "cell_type": "code",
   "execution_count": 16,
   "id": "4fe5e598",
   "metadata": {},
   "outputs": [],
   "source": [
    "myfile = open('test.txt')"
   ]
  },
  {
   "cell_type": "code",
   "execution_count": 17,
   "id": "d8d1a922",
   "metadata": {},
   "outputs": [
    {
     "data": {
      "text/plain": [
       "['Hello, this is a quick test file.\\n',\n",
       " 'This is the second line of the file.\\n']"
      ]
     },
     "execution_count": 17,
     "metadata": {},
     "output_type": "execute_result"
    }
   ],
   "source": [
    "myfile.readlines()"
   ]
  },
  {
   "cell_type": "code",
   "execution_count": 18,
   "id": "5dc530a4",
   "metadata": {},
   "outputs": [
    {
     "data": {
      "text/plain": [
       "0"
      ]
     },
     "execution_count": 18,
     "metadata": {},
     "output_type": "execute_result"
    }
   ],
   "source": [
    "myfile.seek(0)"
   ]
  },
  {
   "cell_type": "code",
   "execution_count": 19,
   "id": "9721ce2e",
   "metadata": {},
   "outputs": [],
   "source": [
    "myline = myfile.readlines()"
   ]
  },
  {
   "cell_type": "code",
   "execution_count": 21,
   "id": "767f94b2",
   "metadata": {},
   "outputs": [
    {
     "name": "stdout",
     "output_type": "stream",
     "text": [
      "Hello,\n",
      "This\n"
     ]
    }
   ],
   "source": [
    "for line in myline:\n",
    "    print(line.split()[0])"
   ]
  },
  {
   "cell_type": "code",
   "execution_count": 22,
   "id": "b2cb5dff",
   "metadata": {},
   "outputs": [
    {
     "name": "stdout",
     "output_type": "stream",
     "text": [
      "Hello, this is a quick test file.\n",
      "\n",
      "This is the second line of the file.\n",
      "\n"
     ]
    }
   ],
   "source": [
    "for line in myline:\n",
    "    print(line)"
   ]
  },
  {
   "cell_type": "code",
   "execution_count": 23,
   "id": "970d6b8b",
   "metadata": {},
   "outputs": [],
   "source": [
    "myfile = open('test.txt', 'w+')"
   ]
  },
  {
   "cell_type": "code",
   "execution_count": 24,
   "id": "4e005d26",
   "metadata": {},
   "outputs": [
    {
     "data": {
      "text/plain": [
       "''"
      ]
     },
     "execution_count": 24,
     "metadata": {},
     "output_type": "execute_result"
    }
   ],
   "source": [
    "myfile.read()"
   ]
  },
  {
   "cell_type": "code",
   "execution_count": 25,
   "id": "cc127cdb",
   "metadata": {},
   "outputs": [
    {
     "data": {
      "text/plain": [
       "17"
      ]
     },
     "execution_count": 25,
     "metadata": {},
     "output_type": "execute_result"
    }
   ],
   "source": [
    "myfile.write('My BRAND NEW TEXT')"
   ]
  },
  {
   "cell_type": "code",
   "execution_count": 26,
   "id": "ead95d28",
   "metadata": {},
   "outputs": [
    {
     "data": {
      "text/plain": [
       "0"
      ]
     },
     "execution_count": 26,
     "metadata": {},
     "output_type": "execute_result"
    }
   ],
   "source": [
    "myfile.seek(0)"
   ]
  },
  {
   "cell_type": "code",
   "execution_count": 27,
   "id": "d0532b27",
   "metadata": {},
   "outputs": [
    {
     "data": {
      "text/plain": [
       "'My BRAND NEW TEXT'"
      ]
     },
     "execution_count": 27,
     "metadata": {},
     "output_type": "execute_result"
    }
   ],
   "source": [
    "myfile.read()"
   ]
  },
  {
   "cell_type": "code",
   "execution_count": 28,
   "id": "6722efe5",
   "metadata": {},
   "outputs": [],
   "source": [
    "myfile.close()"
   ]
  },
  {
   "cell_type": "code",
   "execution_count": 37,
   "id": "6f2797e2",
   "metadata": {},
   "outputs": [],
   "source": [
    "myfile = open('whoops.txt', 'a+')"
   ]
  },
  {
   "cell_type": "code",
   "execution_count": 38,
   "id": "5f40a08f",
   "metadata": {},
   "outputs": [
    {
     "data": {
      "text/plain": [
       "''"
      ]
     },
     "execution_count": 38,
     "metadata": {},
     "output_type": "execute_result"
    }
   ],
   "source": [
    "myfile.read()"
   ]
  },
  {
   "cell_type": "code",
   "execution_count": 39,
   "id": "bfb2ed2b",
   "metadata": {},
   "outputs": [
    {
     "data": {
      "text/plain": [
       "0"
      ]
     },
     "execution_count": 39,
     "metadata": {},
     "output_type": "execute_result"
    }
   ],
   "source": [
    "myfile.seek(0)"
   ]
  },
  {
   "cell_type": "code",
   "execution_count": 40,
   "id": "5e8919c5",
   "metadata": {},
   "outputs": [
    {
     "data": {
      "text/plain": [
       "''"
      ]
     },
     "execution_count": 40,
     "metadata": {},
     "output_type": "execute_result"
    }
   ],
   "source": [
    "myfile.read()"
   ]
  },
  {
   "cell_type": "code",
   "execution_count": 41,
   "id": "2c88e68c",
   "metadata": {},
   "outputs": [
    {
     "data": {
      "text/plain": [
       "27"
      ]
     },
     "execution_count": 41,
     "metadata": {},
     "output_type": "execute_result"
    }
   ],
   "source": [
    "myfile.write('MY FIRST LINE IN A+ OPENING')"
   ]
  },
  {
   "cell_type": "code",
   "execution_count": 42,
   "id": "f57efe9b",
   "metadata": {},
   "outputs": [],
   "source": [
    "myfile.close()"
   ]
  },
  {
   "cell_type": "code",
   "execution_count": 44,
   "id": "7c33c957",
   "metadata": {},
   "outputs": [],
   "source": [
    "newfile = open('whoops.txt')"
   ]
  },
  {
   "cell_type": "code",
   "execution_count": 45,
   "id": "ee180c0f",
   "metadata": {},
   "outputs": [
    {
     "data": {
      "text/plain": [
       "'MY FIRST LINE IN A+ OPENING'"
      ]
     },
     "execution_count": 45,
     "metadata": {},
     "output_type": "execute_result"
    }
   ],
   "source": [
    "newfile.read()"
   ]
  },
  {
   "cell_type": "code",
   "execution_count": 46,
   "id": "538bb76b",
   "metadata": {},
   "outputs": [
    {
     "ename": "UnsupportedOperation",
     "evalue": "not writable",
     "output_type": "error",
     "traceback": [
      "\u001b[0;31m---------------------------------------------------------------------------\u001b[0m",
      "\u001b[0;31mUnsupportedOperation\u001b[0m                      Traceback (most recent call last)",
      "Cell \u001b[0;32mIn[46], line 1\u001b[0m\n\u001b[0;32m----> 1\u001b[0m \u001b[43mnewfile\u001b[49m\u001b[38;5;241;43m.\u001b[39;49m\u001b[43mwrite\u001b[49m\u001b[43m(\u001b[49m\u001b[38;5;124;43m'\u001b[39;49m\u001b[38;5;124;43mtry to write something with only read permissions\u001b[39;49m\u001b[38;5;124;43m'\u001b[39;49m\u001b[43m)\u001b[49m\n",
      "\u001b[0;31mUnsupportedOperation\u001b[0m: not writable"
     ]
    }
   ],
   "source": [
    "newfile.write('try to write something with only read permissions')\n"
   ]
  },
  {
   "cell_type": "code",
   "execution_count": 47,
   "id": "ebdbf8c3",
   "metadata": {},
   "outputs": [],
   "source": [
    "newfile.close()"
   ]
  },
  {
   "cell_type": "code",
   "execution_count": 48,
   "id": "38d958ec",
   "metadata": {},
   "outputs": [],
   "source": [
    "myfile = open('whoops.txt', mode = 'a+')\n"
   ]
  },
  {
   "cell_type": "code",
   "execution_count": 49,
   "id": "085d82d2",
   "metadata": {},
   "outputs": [
    {
     "data": {
      "text/plain": [
       "45"
      ]
     },
     "execution_count": 49,
     "metadata": {},
     "output_type": "execute_result"
    }
   ],
   "source": [
    "myfile.write('This is an added line, because I used a+ mode')"
   ]
  },
  {
   "cell_type": "code",
   "execution_count": 50,
   "id": "76003ccd",
   "metadata": {},
   "outputs": [
    {
     "data": {
      "text/plain": [
       "0"
      ]
     },
     "execution_count": 50,
     "metadata": {},
     "output_type": "execute_result"
    }
   ],
   "source": [
    "myfile.seek(0)"
   ]
  },
  {
   "cell_type": "code",
   "execution_count": 51,
   "id": "1aaf2f4d",
   "metadata": {},
   "outputs": [
    {
     "data": {
      "text/plain": [
       "'MY FIRST LINE IN A+ OPENINGThis is an added line, because I used a+ mode'"
      ]
     },
     "execution_count": 51,
     "metadata": {},
     "output_type": "execute_result"
    }
   ],
   "source": [
    "myfile.read()"
   ]
  },
  {
   "cell_type": "code",
   "execution_count": 55,
   "id": "49f85688",
   "metadata": {},
   "outputs": [
    {
     "data": {
      "text/plain": [
       "42"
      ]
     },
     "execution_count": 55,
     "metadata": {},
     "output_type": "execute_result"
    }
   ],
   "source": [
    "myfile.write(\"\\nThis is a real new line, on the next line\")\n"
   ]
  },
  {
   "cell_type": "code",
   "execution_count": 56,
   "id": "16a58b49",
   "metadata": {},
   "outputs": [
    {
     "data": {
      "text/plain": [
       "0"
      ]
     },
     "execution_count": 56,
     "metadata": {},
     "output_type": "execute_result"
    }
   ],
   "source": [
    "myfile.seek(0)"
   ]
  },
  {
   "cell_type": "code",
   "execution_count": 57,
   "id": "a77f1cb2",
   "metadata": {},
   "outputs": [
    {
     "name": "stdout",
     "output_type": "stream",
     "text": [
      "MY FIRST LINE IN A+ OPENINGThis is an added line, because I used a+ mode/nThis is a real new line, on the next line\n",
      "This is a real new line, on the next line\n"
     ]
    }
   ],
   "source": [
    "print(myfile.read())"
   ]
  },
  {
   "cell_type": "code",
   "execution_count": 60,
   "id": "aff2dafb",
   "metadata": {},
   "outputs": [],
   "source": [
    "myfile.close()"
   ]
  },
  {
   "cell_type": "code",
   "execution_count": 61,
   "id": "c879409d",
   "metadata": {},
   "outputs": [],
   "source": [
    "with open('whoops.txt', 'r') as my_new_file:\n",
    "    my_variable = my_new_file.readlines()"
   ]
  },
  {
   "cell_type": "code",
   "execution_count": 62,
   "id": "e4e0fb07",
   "metadata": {},
   "outputs": [
    {
     "data": {
      "text/plain": [
       "['MY FIRST LINE IN A+ OPENINGThis is an added line, because I used a+ mode/nThis is a real new line, on the next line\\n',\n",
       " 'This is a real new line, on the next line']"
      ]
     },
     "execution_count": 62,
     "metadata": {},
     "output_type": "execute_result"
    }
   ],
   "source": [
    "my_variable"
   ]
  }
 ],
 "metadata": {
  "kernelspec": {
   "display_name": "Python 3 (ipykernel)",
   "language": "python",
   "name": "python3"
  },
  "language_info": {
   "codemirror_mode": {
    "name": "ipython",
    "version": 3
   },
   "file_extension": ".py",
   "mimetype": "text/x-python",
   "name": "python",
   "nbconvert_exporter": "python",
   "pygments_lexer": "ipython3",
   "version": "3.9.16"
  }
 },
 "nbformat": 4,
 "nbformat_minor": 5
}
