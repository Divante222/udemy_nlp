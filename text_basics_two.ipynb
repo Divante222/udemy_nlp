{
 "cells": [
  {
   "cell_type": "code",
   "execution_count": 1,
   "id": "022e9ba0",
   "metadata": {},
   "outputs": [],
   "source": [
    "#this only works in jupyter notebook\n",
    "# this creates and writes to a text file"
   ]
  },
  {
   "cell_type": "code",
   "execution_count": 3,
   "id": "192993f6",
   "metadata": {},
   "outputs": [],
   "source": [
    "%%writefile text.txt \n",
    "Hello, this is a quick test file.\n",
    "This is the second line of the file."
   ]
  },
  {
   "cell_type": "code",
   "execution_count": 6,
   "id": "eef21ea8",
   "metadata": {},
   "outputs": [],
   "source": [
    "myfile = open('whoops.txt')"
   ]
  },
  {
   "cell_type": "code",
   "execution_count": 7,
   "id": "07c41e8b",
   "metadata": {},
   "outputs": [],
   "source": [
    "print(myfile)"
   ]
  },
  {
   "cell_type": "code",
   "execution_count": null,
   "id": "79711539",
   "metadata": {},
   "outputs": [],
   "source": []
  }
 ],
 "metadata": {
  "kernelspec": {
   "display_name": "Python 3 (ipykernel)",
   "language": "python",
   "name": "python3"
  },
  "language_info": {
   "codemirror_mode": {
    "name": "ipython",
    "version": 3
   },
   "file_extension": ".py",
   "mimetype": "text/x-python",
   "name": "python",
   "nbconvert_exporter": "python",
   "pygments_lexer": "ipython3",
   "version": "3.9.16"
  }
 },
 "nbformat": 4,
 "nbformat_minor": 5
}
