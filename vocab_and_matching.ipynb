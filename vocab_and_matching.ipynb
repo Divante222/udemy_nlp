{
 "cells": [
  {
   "cell_type": "code",
   "execution_count": 1,
   "id": "30ed7c45",
   "metadata": {},
   "outputs": [],
   "source": [
    "import spacy"
   ]
  },
  {
   "cell_type": "code",
   "execution_count": 2,
   "id": "6ddc3103",
   "metadata": {},
   "outputs": [],
   "source": [
    "nlp = spacy.load('en_core_web_sm')"
   ]
  },
  {
   "cell_type": "code",
   "execution_count": 3,
   "id": "2dba27a3",
   "metadata": {},
   "outputs": [],
   "source": [
    "from spacy.matcher import Matcher"
   ]
  },
  {
   "cell_type": "code",
   "execution_count": 4,
   "id": "9ed1f54c",
   "metadata": {},
   "outputs": [],
   "source": [
    "matcher = Matcher(nlp.vocab)"
   ]
  },
  {
   "cell_type": "code",
   "execution_count": 5,
   "id": "af33357d",
   "metadata": {},
   "outputs": [],
   "source": [
    "# Solar power\n",
    "pattern1 = [{'LOWER':'solarpower'}]\n",
    "\n",
    "# Solar - power\n",
    "pattern2 = [{'LOWER':'solar'}, {'IS_PUNCT':True}, {'LOWER':'power'}]\n",
    "\n",
    "# SolarPower\n",
    "pattern3 = [{'LOWER':'solar'}, {'LOWER':'power'}]"
   ]
  },
  {
   "cell_type": "code",
   "execution_count": 6,
   "id": "880d7cc0",
   "metadata": {},
   "outputs": [],
   "source": [
    "# matcher.add('SolarPower', None, pattern1, pattern2, pattern3)"
   ]
  },
  {
   "cell_type": "code",
   "execution_count": 7,
   "id": "995a5e57",
   "metadata": {},
   "outputs": [],
   "source": [
    "# matcher.add(\"SolarPower\", None, pattern1)\n",
    "# matcher.add(\"RenewableEnergy\", None, pattern2)\n",
    "# matcher.add(\"CleanPower\", None, pattern3)\n"
   ]
  },
  {
   "cell_type": "code",
   "execution_count": 8,
   "id": "9e65b321",
   "metadata": {},
   "outputs": [],
   "source": [
    "matcher.add(\"SolarPower\", [pattern1, pattern2, pattern3])"
   ]
  },
  {
   "cell_type": "code",
   "execution_count": 9,
   "id": "18d03b23",
   "metadata": {},
   "outputs": [],
   "source": [
    "doc = nlp(u\"The Solar Power industry continues to grow as solar power increases. Solar-power is amazing\")"
   ]
  },
  {
   "cell_type": "code",
   "execution_count": 10,
   "id": "9d01b63e",
   "metadata": {},
   "outputs": [],
   "source": [
    "found_matches = matcher(doc)"
   ]
  },
  {
   "cell_type": "code",
   "execution_count": 11,
   "id": "9d8806b7",
   "metadata": {},
   "outputs": [
    {
     "data": {
      "text/plain": [
       "[(8656102463236116519, 1, 3),\n",
       " (8656102463236116519, 8, 10),\n",
       " (8656102463236116519, 12, 15)]"
      ]
     },
     "execution_count": 11,
     "metadata": {},
     "output_type": "execute_result"
    }
   ],
   "source": [
    "#match id\n",
    "#start\n",
    "#stop\n",
    "#bases off of indexes\n",
    "found_matches"
   ]
  },
  {
   "cell_type": "code",
   "execution_count": 12,
   "id": "1bce70fc",
   "metadata": {},
   "outputs": [
    {
     "name": "stdout",
     "output_type": "stream",
     "text": [
      "8656102463236116519 SolarPower 1 3 Solar Power\n",
      "8656102463236116519 SolarPower 8 10 solar power\n",
      "8656102463236116519 SolarPower 12 15 Solar-power\n"
     ]
    }
   ],
   "source": [
    "for match_id, start, end in found_matches:\n",
    "    string_id = nlp.vocab.strings[match_id]  # get string representation\n",
    "    span = doc[start:end]                    # get the matched span\n",
    "    print(match_id, string_id, start, end, span.text)"
   ]
  },
  {
   "cell_type": "code",
   "execution_count": 13,
   "id": "31420ed0",
   "metadata": {},
   "outputs": [],
   "source": [
    "matcher.remove('SolarPower')"
   ]
  },
  {
   "cell_type": "code",
   "execution_count": 14,
   "id": "a0bbedbf",
   "metadata": {},
   "outputs": [],
   "source": [
    "pattern1 = [{'LOWER': 'solarpower'}]\n",
    "pattern2 = [{'LOWER':'solar'}, {'IS_PUNCT':True, 'OP':'*'},{'LOWER':'power'}]"
   ]
  },
  {
   "cell_type": "code",
   "execution_count": 15,
   "id": "0be5240e",
   "metadata": {},
   "outputs": [],
   "source": [
    "matcher.add('SolarPower', [pattern1, pattern2])"
   ]
  },
  {
   "cell_type": "code",
   "execution_count": 16,
   "id": "9c9b394d",
   "metadata": {},
   "outputs": [],
   "source": [
    "doc2 = nlp(u\"Solar--power is solarpower yay!\")"
   ]
  },
  {
   "cell_type": "code",
   "execution_count": 17,
   "id": "b6e6eef0",
   "metadata": {},
   "outputs": [],
   "source": [
    "found_matches = matcher(doc2)"
   ]
  },
  {
   "cell_type": "code",
   "execution_count": 18,
   "id": "6416b57f",
   "metadata": {},
   "outputs": [
    {
     "data": {
      "text/plain": [
       "[(8656102463236116519, 0, 3), (8656102463236116519, 4, 5)]"
      ]
     },
     "execution_count": 18,
     "metadata": {},
     "output_type": "execute_result"
    }
   ],
   "source": [
    "found_matches"
   ]
  },
  {
   "cell_type": "code",
   "execution_count": 19,
   "id": "483b569b",
   "metadata": {},
   "outputs": [],
   "source": [
    "from spacy.matcher import PhraseMatcher"
   ]
  },
  {
   "cell_type": "code",
   "execution_count": 20,
   "id": "a279b0e3",
   "metadata": {},
   "outputs": [],
   "source": [
    "matcher = PhraseMatcher(nlp.vocab)"
   ]
  },
  {
   "cell_type": "code",
   "execution_count": 23,
   "id": "622f77ed",
   "metadata": {},
   "outputs": [
    {
     "ename": "AttributeError",
     "evalue": "'English' object has no attribute 'vocab_'",
     "output_type": "error",
     "traceback": [
      "\u001b[0;31m---------------------------------------------------------------------------\u001b[0m",
      "\u001b[0;31mAttributeError\u001b[0m                            Traceback (most recent call last)",
      "Cell \u001b[0;32mIn[23], line 1\u001b[0m\n\u001b[0;32m----> 1\u001b[0m \u001b[38;5;28mprint\u001b[39m(\u001b[43mnlp\u001b[49m\u001b[38;5;241;43m.\u001b[39;49m\u001b[43mvocab_\u001b[49m)\n",
      "\u001b[0;31mAttributeError\u001b[0m: 'English' object has no attribute 'vocab_'"
     ]
    }
   ],
   "source": [
    "print(nlp.vocab_)"
   ]
  },
  {
   "cell_type": "code",
   "execution_count": 24,
   "id": "d2f00967",
   "metadata": {},
   "outputs": [
    {
     "name": "stdout",
     "output_type": "stream",
     "text": [
      "'apple' is in the vocabulary: False\n"
     ]
    }
   ],
   "source": [
    "word = \"apple\"\n",
    "is_in_vocab = word in nlp.vocab\n",
    "print(f\"'{word}' is in the vocabulary:\", is_in_vocab)"
   ]
  },
  {
   "cell_type": "code",
   "execution_count": 25,
   "id": "e376846e",
   "metadata": {},
   "outputs": [
    {
     "name": "stdout",
     "output_type": "stream",
     "text": [
      "['nuthin', 'Kan', 'Mar', 'it', 'e', 'is', 'Might', 'Nov', 'where', 'X', 'Del', 'must', 'Ariz', 'had', 'Calif', 'does', 'Cos', 'solar', 'Would', 'do', 'b', 'might', 'continues', 'Has', 'pm', 'ought', 'Dec', 'ä', 'these', 'Tenn', 'Miss', 'Ga', 'Must', 'somethin', 'What', 'ü', 'r', 'When', 'Have', 'You', 'O', 'co', 'doin', 'Mt', 'to', 'Let', 'xDD', 'Prof', 'Ai', 'Does', 'Minn', 'g', 'Power', 'La', 'Mich', 'Not', 'Okla', 'w', 'cos', 'grow', 'Va', 'would', 'The', 'as', 'Rep', 'Was', 'k', 'XD', 'Solar', 'Sha', 'C', 'Ought', 'Sep', 'd', 'Who', 'f', 'increases', 'need', 'c', 'm', 'cause', 'you', 'was', 'F', 'y', 'Jr', 'Mont', 'Where', 'nt', 'Gen', 'who', 'May', 'why', 'Are', 'how', 'could', 'h', 'power', 'ca', 'cuz', 'Cuz', 'Havin', 'those', 'space', 'He', 'Neb', 'Nev', 'were', 't', 'ta', 'a', 'dare', 'Messrs', 'll', 'this', 'Were', 'Jan', 'nuff', 'they', 'We', 'he', 'Can', 'Jun', 'l', 'Lovin', 'u', 'Ol', 'Dare', 'q', 'there', 'havin', 'Need', 'Somethin', 'gon', 'Ia', 'v', 'got', 'Wash', 'Conn', 'Mass', 'Colo', 'It', 'j', 'Those', 'bout', 'Mr', 'Bros', 'Mo', 'Why', 'K', 'Wo', 'or', 'when', 'Dr', 'Is', 'she', 'Id', 'Apr', 'may', 'all', 'Ltd', 'Doin', 'amazing', 'Fla', 'what', 'Ind', 'Sept', 'Sen', 'coz', 'nothin', 'industry', 'Ark', 'Co', 'This', 'Rev', 'Ms', 're', 'Gon', 'There', 'D', 'lovin', 'yay', 'S', 'Mrs', 'Gov', 'Feb', 'Nuthin', 'Corp', 'These', 'Ky', 'not', 'Could', 'That', 'did', 'I', 'Do', 'Wis', 'has', 'Inc', 'Ala', 'have', 'She', 'sha', 'vs', 'Did', 's', 'p', 'am', 'ol', 'Pa', 'can', 'Jul', 'we', 'n', 'em', 'on', 'Ph', 'x', 'Ca', 'that', 'o', 'St', 'Should', 'Oct', 'Md', 'Kans', 'na', 'i', 'xD', 'Ak', 'Nothin', 'z', 'solarpower', 'How', 'They', 'ö', 'ai', 'Had', 'Got', 'Aug', 'XDD', 'P', 'Cause', 'wo', 'Goin', 'should', 'Ill', 'are', 'Coz', 'Nebr', 'Adm', 'and', 'Ore', 'goin', 'let', 've']\n"
     ]
    }
   ],
   "source": [
    "all_words = [token.text for token in nlp.vocab if token.is_alpha]\n",
    "print(all_words)"
   ]
  },
  {
   "cell_type": "code",
   "execution_count": 31,
   "id": "6c9a9e6e",
   "metadata": {},
   "outputs": [],
   "source": [
    "with open('/Users/divante/codeup-data-science/udemy_nlp/UPDATED_NLP_COURSE/TextFiles/reaganomics.txt',encoding='latin-1') as f:\n",
    "    doc3 = nlp(f.read())"
   ]
  },
  {
   "cell_type": "code",
   "execution_count": 51,
   "id": "301dd789",
   "metadata": {},
   "outputs": [],
   "source": [
    "phrase_list = [ 'suppy-side economics', 'voodoo economics','trickle-down economics'', free-market economics']"
   ]
  },
  {
   "cell_type": "code",
   "execution_count": 52,
   "id": "8671e679",
   "metadata": {},
   "outputs": [],
   "source": [
    "phrase_patterns = [nlp(text) for text in phrase_list]"
   ]
  },
  {
   "cell_type": "code",
   "execution_count": 53,
   "id": "8a7d85fe",
   "metadata": {},
   "outputs": [
    {
     "data": {
      "text/plain": [
       "[suppy-side economics,\n",
       " voodoo economics,\n",
       " trickle-down economics, free-market economics]"
      ]
     },
     "execution_count": 53,
     "metadata": {},
     "output_type": "execute_result"
    }
   ],
   "source": [
    "phrase_patterns"
   ]
  },
  {
   "cell_type": "code",
   "execution_count": 54,
   "id": "bb58edb8",
   "metadata": {},
   "outputs": [],
   "source": [
    "matcher.add('EconMatcher', phrase_patterns)"
   ]
  },
  {
   "cell_type": "code",
   "execution_count": 55,
   "id": "8f740b21",
   "metadata": {},
   "outputs": [],
   "source": [
    "found_matches = matcher(doc3)"
   ]
  },
  {
   "cell_type": "code",
   "execution_count": 56,
   "id": "fcece894",
   "metadata": {},
   "outputs": [
    {
     "data": {
      "text/plain": [
       "[(3680293220734633682, 54, 56)]"
      ]
     },
     "execution_count": 56,
     "metadata": {},
     "output_type": "execute_result"
    }
   ],
   "source": [
    "found_matches"
   ]
  },
  {
   "cell_type": "code",
   "execution_count": 57,
   "id": "22b72dbd",
   "metadata": {},
   "outputs": [
    {
     "name": "stdout",
     "output_type": "stream",
     "text": [
      "3680293220734633682 EconMatcher 54 56 voodoo economics\n"
     ]
    }
   ],
   "source": [
    "for match_id, start, end in found_matches:\n",
    "    string_id = nlp.vocab.strings[match_id]  # get string representation\n",
    "    span = doc3[start:end]                    # get the matched span\n",
    "    print(match_id, string_id, start, end, span.text)"
   ]
  },
  {
   "cell_type": "code",
   "execution_count": null,
   "id": "2cd5ec61",
   "metadata": {},
   "outputs": [],
   "source": []
  }
 ],
 "metadata": {
  "kernelspec": {
   "display_name": "Python 3 (ipykernel)",
   "language": "python",
   "name": "python3"
  },
  "language_info": {
   "codemirror_mode": {
    "name": "ipython",
    "version": 3
   },
   "file_extension": ".py",
   "mimetype": "text/x-python",
   "name": "python",
   "nbconvert_exporter": "python",
   "pygments_lexer": "ipython3",
   "version": "3.9.16"
  }
 },
 "nbformat": 4,
 "nbformat_minor": 5
}
